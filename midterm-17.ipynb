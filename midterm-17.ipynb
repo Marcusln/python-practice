{
 "cells": [
  {
   "cell_type": "markdown",
   "metadata": {
    "collapsed": true
   },
   "source": [
    "# Mid-term 2017\n",
    "_Group based project, multiple authors._"
   ]
  },
  {
   "cell_type": "markdown",
   "metadata": {},
   "source": [
    "## Problem 1\n",
    "Take the following list:\n",
    "```\n",
    "my_list = [45, 4, 1, 76, 3, 5, 8, 89, 21, 34, 55, 71]\n",
    "```\n",
    "Write a code that asks the user for a number and prints a list that contains only those elements from the original list `my_list` that are smaller than or equal to that number given by the user.<br /><br />\n",
    "NOTES:\n",
    "- Use `input()` to ask the user for a number"
   ]
  },
  {
   "cell_type": "code",
   "execution_count": 2,
   "metadata": {},
   "outputs": [
    {
     "name": "stdout",
     "output_type": "stream",
     "text": [
      "Number chosen:  9\nInitial list:  [1, 3, 4, 5, 8, 21, 34, 45, 55, 71, 76, 89]\nNew list:  [1, 3, 4, 5, 8]\n"
     ]
    }
   ],
   "source": [
    "my_list = [45, 4, 1, 76, 3, 5, 8, 89, 21, 34, 55, 71]  # create new list\n",
    "new_list = []  # create empty list\n",
    "\n",
    "# prompt user for a number\n",
    "# number = float(input(\"Please enter a number: \"))\n",
    "number = 9  # hardcoded to bypass jupyter's limitations \n",
    "\n",
    "# loop through my_list, append values to new_list, but only those smaller than or equal to the chosen number\n",
    "for num in my_list:\n",
    "    if num <= number:\n",
    "        new_list.append(num)\n",
    "\n",
    "print('Number chosen: ', number)\n",
    "print('Initial list: ', sorted(my_list))\n",
    "print('New list: ', sorted(new_list))"
   ]
  },
  {
   "cell_type": "markdown",
   "metadata": {},
   "source": [
    "## Problem 2\n",
    "Write a function that takes two parameters: a list of numbers and another number. The function decides whether or not the given number is inside the list and returns an appropriate boolean (TRUE or FALSE).\n",
    "In addition, your function should sort the taken list of numbers in ascending order (i.e., producing a list where all elements are in order from the smallest to the largest).\n",
    "Next:\n",
    "- Apply your function to the following list:\n",
    "a = [2.5, 10, 34.5, 1, 67.4, 21, 78, 0, 11]\n",
    "- Sorted list a (i.e., sorted by your function) should be printed when your function is called\n",
    "- Print boolean values returned by your function for the following numbers: 5; 10; -1; 2.5\n",
    "For example:\n",
    "- Your code should print the following results, when your functions takes two parameters: list a and 12:\n",
    "```\n",
    "My ordered list: [0, 1, 2.5, 10, 11, 21, 34.5, 67.4, 78]\n",
    "False\n",
    "```"
   ]
  },
  {
   "cell_type": "code",
   "execution_count": 8,
   "metadata": {},
   "outputs": [
    {
     "name": "stdout",
     "output_type": "stream",
     "text": [
      "Is this number in the list: 12 ?\nMy ordered list: [0, 1, 2.5, 10, 11, 21, 34.5, 67.4, 78]\nFalse \n\nIs this number in the list: 5 ?\nMy ordered list: [0, 1, 2.5, 10, 11, 21, 34.5, 67.4, 78]\nFalse \n\nIs this number in the list: 10 ?\nMy ordered list: [0, 1, 2.5, 10, 11, 21, 34.5, 67.4, 78]\nTrue \n\nIs this number in the list: -1 ?\nMy ordered list: [0, 1, 2.5, 10, 11, 21, 34.5, 67.4, 78]\nFalse \n\nIs this number in the list: 2.5 ?\nMy ordered list: [0, 1, 2.5, 10, 11, 21, 34.5, 67.4, 78]\nTrue \n\n"
     ]
    }
   ],
   "source": [
    "def num_in_list(list_to_check, num):  # define function\n",
    "    print('Is this number in the list:', num, '?')\n",
    "    print('My ordered list:', sorted(list_to_check))  # print list, sorted\n",
    "    print(num in list_to_check, '\\n')  # check if num is in list_to_check, return boolean\n",
    "    \n",
    "    \n",
    "a = [2.5, 10, 34.5, 1, 67.4, 21, 78, 0, 11]  # create list\n",
    "\n",
    "num_in_list(list_to_check=a, num=12)  # call function\n",
    "num_in_list(a, 5)\n",
    "num_in_list(a, 10)\n",
    "num_in_list(a, -1)\n",
    "num_in_list(a, 2.5)"
   ]
  },
  {
   "cell_type": "markdown",
   "metadata": {},
   "source": [
    "## Problem 3\n",
    "In this problem, you should keep track of when birthdays of some famous people are, and be able to find that information based on their full names. You should create a dictionary of names and birthdays. When you run your code, it should ask the user to enter a full name, and print the birthday of that person."
   ]
  },
  {
   "cell_type": "code",
   "execution_count": 17,
   "metadata": {},
   "outputs": [
    {
     "name": "stdout",
     "output_type": "stream",
     "text": [
      "Welcome to my dictionary. I know the birthdays of:\nEdmund Ruffin\nPeter Agre\nWill Wright\nIrving Langmuir\nGeorge Morrow\n\nThe birthday of Irving Langmuir is: \n31/01/1881\n"
     ]
    }
   ],
   "source": [
    "birthdaydictionary = {  # define dictionary\n",
    "    \"Edmund Ruffin\": \"05/01/1794\",\n",
    "    \"Peter Agre\": \"30/01/1949\",\n",
    "    \"Will Wright\": \"20/01/1960\",\n",
    "    \"Irving Langmuir\": \"31/01/1881\",\n",
    "    \"George Morrow\": \"30/01/1934\",\n",
    "}\n",
    "\n",
    "print(\"Welcome to my dictionary. I know the birthdays of:\")  # print welcome message\n",
    "\n",
    "for person in birthdaydictionary:  # loop through dict and print each key\n",
    "    print(person)\n",
    "\n",
    "# prompt user for a person\n",
    "# person = input(\"\\nWho's birthday do you want to look up? \")\n",
    "person = 'Irving Langmuir'  # hardcoded to bypass Jupyter's limitations\n",
    "\n",
    "if person in birthdaydictionary:  # if person exists in dict\n",
    "    print(\"\\nThe birthday of {} is: \".format(person))  # .format returns name of keyword at {}\n",
    "    print(birthdaydictionary[person])  # fetch value of dictionary when key is person\n"
   ]
  },
  {
   "cell_type": "markdown",
   "metadata": {},
   "source": [
    "## Problem 4\n",
    "Write a code that will replace last value of tuples in the list `my_list` by the value of 50:\n",
    "```python\n",
    "my_list = [(55, 45, 33), (54, 75, 89), (45, 45, 90)]\n",
    "```\n",
    "\n",
    "Requirements:\n",
    "- You must use for-statement in your code\n",
    "- Your code must process the list’s indices and tuples’ indices"
   ]
  },
  {
   "cell_type": "code",
   "execution_count": 10,
   "metadata": {},
   "outputs": [
    {
     "name": "stdout",
     "output_type": "stream",
     "text": [
      "Initial list: [(55, 45, 33), (54, 75, 89), (45, 45, 90)]\nUpdated list: [(55, 45, 50), (54, 75, 50), (45, 45, 50)]\n"
     ]
    }
   ],
   "source": [
    "my_list = [(55, 45, 33), (54, 75, 89), (45, 45, 90)]  #  Create initial list\n",
    "new_list = []  # Create new, empty list\n",
    "\n",
    "print('Initial list:', my_list )  # print initial list\n",
    "\n",
    "for i in range(len(my_list)):  # for loop will run for the length of my_list.\n",
    "        new_list.append (my_list[i][:-1] + (50,) )  # values in my_list, except for last value, is appended to new_list.\n",
    "                                                    # the value 50 is added to new_list\n",
    "\n",
    "else:\n",
    "    print('Updated list:', new_list)  # when function is finished, print the updated list\n"
   ]
  },
  {
   "cell_type": "markdown",
   "metadata": {},
   "source": [
    "## Problem 5\n",
    "Write a function to remove the characters that have odd index values of a given string. Your function should take one parameter: a string.\n",
    "\n",
    "Your code should print values returned by your function for the following strings:\n",
    "1. `'information'`\n",
    "2. `'python'`"
   ]
  },
  {
   "cell_type": "code",
   "execution_count": 11,
   "metadata": {},
   "outputs": [
    {
     "name": "stdout",
     "output_type": "stream",
     "text": [
      "ifrain\npto\n"
     ]
    }
   ],
   "source": [
    "def remove_odd(word):  # define remove odd index function\n",
    "    print(word[::2])  # print the input word but step over 1 letter.\n",
    "\n",
    "remove_odd('information')\n",
    "remove_odd('python')"
   ]
  },
  {
   "cell_type": "markdown",
   "metadata": {},
   "source": [
    "## Problem 6\n",
    "Write a code that reads words from the user until the user enters a blank line. After the user enters a blank line your code should print each word entered by the user exactly once. The words should be displayed in the same order that they were entered."
   ]
  },
  {
   "cell_type": "markdown",
   "metadata": {},
   "source": [
    "```python\n",
    "without_duplicates = []  # create empty list\n",
    "n = 0  # set counter n to 0, to be used on line 14\n",
    "\n",
    "while True:  # initiate infinite loop\n",
    "    word = input((\"Please, enter your word (OR enter blank line to quit:\\n\"))  # prompt user for a word\n",
    "    if word == \"\":  # if word is empty, ie. an empty line\n",
    "        break  # quit loop\n",
    "    else:\n",
    "        if word not in without_duplicates:  # if the word is not in list without_duplicates\n",
    "            without_duplicates.append(word)  # then add the word to the list\n",
    "\n",
    "print(\"Without duplicates:\")\n",
    "for i in without_duplicates:  # loop though list without_duplicates\n",
    "    n = n + 1  # create an index, starting on 1 and increasing by 1 each run\n",
    "    print([n], i)  # add index to list items and print the list\n",
    "\n",
    "```"
   ]
  },
  {
   "cell_type": "markdown",
   "metadata": {},
   "source": [
    "## Problem 7\n",
    "Write a code that determines and prints the number of unique characters in a string entered by the user. For example, string `'pizza'` has 4 unique characters while string `'piZza'` has 5 unique characters.\n",
    "\n",
    "Requirement: Use a dictionary to solve this problem (i.e., to process a string)"
   ]
  },
  {
   "cell_type": "code",
   "execution_count": 12,
   "metadata": {},
   "outputs": [
    {
     "name": "stdout",
     "output_type": "stream",
     "text": [
      "Number of unique characters:  5\n"
     ]
    }
   ],
   "source": [
    "# s = str(input('Please write a word: \\n'))\n",
    "s = 'piZza'\n",
    "\n",
    "d = dict()  # create an empty dictionary\n",
    "for c in s:  # iterate over the letters c in the string s\n",
    "    d[c] = 1  # create a new key with value 1 for all letters c in the string s.\n",
    "\n",
    "print('Number of unique characters: ', len(d) )  # compute number of keys with len function, print the result\n"
   ]
  }
 ],
 "metadata": {
  "kernelspec": {
   "display_name": "Python 2",
   "language": "python",
   "name": "python2"
  },
  "language_info": {
   "codemirror_mode": {
    "name": "ipython",
    "version": 2
   },
   "file_extension": ".py",
   "mimetype": "text/x-python",
   "name": "python",
   "nbconvert_exporter": "python",
   "pygments_lexer": "ipython2",
   "version": "2.7.6"
  }
 },
 "nbformat": 4,
 "nbformat_minor": 0
}
