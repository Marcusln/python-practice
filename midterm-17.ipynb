{
 "cells": [
  {
   "cell_type": "markdown",
   "metadata": {
    "collapsed": true
   },
   "source": [
    "# Mid-term 2017"
   ]
  },
  {
   "cell_type": "markdown",
   "metadata": {},
   "source": [
    "```\n",
    "my_list = [45, 4, 1, 76, 3, 5, 8, 89, 21, 34, 55, 71]  # create new list\n",
    "#  Construct a new empty list to be appended with numbers from my_list above <= input number, denoted as guess\n",
    "new_list = []\n",
    "#  This is the number, referred to as guess which asks user to input a number for reasons in abovementioned line\n",
    "guess = float(input(\"Print new list lower than or equal to? (Enter a float or integer) : \"))\n",
    "#  Create a for loop, that checks each number, and if lower than number guessed, appends it to new_list\n",
    "for x in my_list:\n",
    "    if x <= guess:\n",
    "        new_list.append(x)\n",
    "\n",
    "#  Prints two lists, first containing the original list ordered ascending, second containing the new list, ascending\n",
    "#  to make it easier for the reader to compare the differences.\n",
    "\n",
    "print('Original list: ', sorted(my_list))\n",
    "print('New list: ', sorted(new_list))\n",
    "```\n"
   ]
  }
 ],
 "metadata": {
  "kernelspec": {
   "display_name": "Python 2",
   "language": "python",
   "name": "python2"
  },
  "language_info": {
   "codemirror_mode": {
    "name": "ipython",
    "version": 2
   },
   "file_extension": ".py",
   "mimetype": "text/x-python",
   "name": "python",
   "nbconvert_exporter": "python",
   "pygments_lexer": "ipython2",
   "version": "2.7.6"
  }
 },
 "nbformat": 4,
 "nbformat_minor": 0
}
