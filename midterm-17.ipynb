{
 "cells": [
  {
   "cell_type": "markdown",
   "metadata": {
    "collapsed": true
   },
   "source": [
    "# Mid-term 2017\n",
    "Group based project, multiple authors."
   ]
  },
  {
   "cell_type": "markdown",
   "metadata": {},
   "source": [
    "## Problem 1\n",
    "Take the following list:\n",
    "```\n",
    "my_list = [45, 4, 1, 76, 3, 5, 8, 89, 21, 34, 55, 71]\n",
    "```\n",
    "Write a code that asks the user for a number and prints a list that contains only those elements from the original list `my_list` that are smaller than or equal to that number given by the user.<br /><br />\n",
    "NOTES:\n",
    "- Use input () - method to ask the user for a number"
   ]
  },
  {
   "cell_type": "code",
   "execution_count": 2,
   "metadata": {},
   "outputs": [
    {
     "name": "stdout",
     "output_type": "stream",
     "text": [
      "Number chosen: 9\nOriginal list:  [1, 3, 4, 5, 8, 21, 34, 45, 55, 71, 76, 89]\nNew list:  [1, 3, 4, 5, 8]\n"
     ]
    }
   ],
   "source": [
    "my_list = [45, 4, 1, 76, 3, 5, 8, 89, 21, 34, 55, 71]  # create new list\n",
    "#  Construct a new empty list to be appended with numbers from my_list above <= input number, denoted as guess\n",
    "new_list = []\n",
    "#  This is the number, referred to as guess which asks user to input a number for reasons in abovementioned line\n",
    "# guess = float(input(\"Print new list lower than or equal to? (Enter a float or integer) : \"))\n",
    "guess = 9\n",
    "#  Create a for loop, that checks each number, and if lower than number guessed, appends it to new_list\n",
    "for x in my_list:\n",
    "    if x <= guess:\n",
    "        new_list.append(x)\n",
    "\n",
    "#  Prints two lists, first containing the original list ordered ascending, second containing the new list, ascending\n",
    "#  to make it easier for the reader to compare the differences.\n",
    "\n",
    "print('Number chosen: 9')\n",
    "print('Original list: ', sorted(my_list))\n",
    "print('New list: ', sorted(new_list))"
   ]
  },
  {
   "cell_type": "markdown",
   "metadata": {},
   "source": [
    "## Problem 2\n",
    "Write a function that takes two parameters: a list of numbers and another number. The function decides whether or not the given number is inside the list and returns an appropriate boolean (TRUE or FALSE).\n",
    "In addition, your function should sort the taken list of numbers in ascending order (i.e., producing a list where all elements are in order from the smallest to the largest).\n",
    "Next:\n",
    "- Apply your function to the following list:\n",
    "a = [2.5, 10, 34.5, 1, 67.4, 21, 78, 0, 11]\n",
    "- Sorted list a (i.e., sorted by your function) should be printed when your function is called\n",
    "- Print boolean values returned by your function for the following numbers: 5; 10; -1; 2.5\n",
    "For example:\n",
    "- Your code should print the following results, when your functions takes two parameters: list a and 12:\n",
    "```\n",
    "My ordered list: [0, 1, 2.5, 10, 11, 21, 34.5, 67.4, 78]\n",
    "False\n",
    "```"
   ]
  },
  {
   "cell_type": "code",
   "execution_count": 4,
   "metadata": {},
   "outputs": [
    {
     "name": "stdout",
     "output_type": "stream",
     "text": [
      "My ordered list: [0, 1, 2.5, 10, 11, 21, 34.5, 67.4, 78]\nFalse\n"
     ]
    }
   ],
   "source": [
    "def function(list, number):  # Define function where list and number are parameters\n",
    "    print(number in a)  # Searches for number from number variable in list a\n",
    "\n",
    "a = [2.5, 10, 34.5, 1, 67.4, 21, 78, 0, 11]  # Create list\n",
    "# number = float(input('Type a number: '))\n",
    "number = 12\n",
    "\n",
    "print('My ordered list:', sorted(a, reverse=False))  # Prints list a, ordered ascending\n",
    "\n",
    "function(a, number)  # Call function"
   ]
  },
  {
   "cell_type": "code",
   "execution_count": null,
   "metadata": {},
   "outputs": [],
   "source": []
  }
 ],
 "metadata": {
  "kernelspec": {
   "display_name": "Python 2",
   "language": "python",
   "name": "python2"
  },
  "language_info": {
   "codemirror_mode": {
    "name": "ipython",
    "version": 2
   },
   "file_extension": ".py",
   "mimetype": "text/x-python",
   "name": "python",
   "nbconvert_exporter": "python",
   "pygments_lexer": "ipython2",
   "version": "2.7.6"
  }
 },
 "nbformat": 4,
 "nbformat_minor": 0
}
