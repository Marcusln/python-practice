{
 "cells": [
  {
   "cell_type": "markdown",
   "metadata": {
    "collapsed": true
   },
   "source": [
    "# BUS455 Exam 2017\n",
    "## Problem 1"
   ]
  },
  {
   "cell_type": "code",
   "execution_count": 6,
   "metadata": {},
   "outputs": [
    {
     "name": "stdout",
     "output_type": "stream",
     "text": [
      "Initial sentence: Bergen          is  so beautiful       !  \nReversed sentence:   !       beautiful so  is          Bergen\n"
     ]
    }
   ],
   "source": [
    "def reverse(s):     # Define function\n",
    "    result = \"\"     # Create empty string\n",
    "    word = \"\"       # Create empty temporary string\n",
    "    slength = len(s) - 1    # The variabel slength equal to the length of input string s minus 1\n",
    "    n = 0                   # Set counter n to 0\n",
    "    while n <= slength:     # The while loop iterates as long as n is less than or equal to slength\n",
    "        if s[n] == \" \":     # If index n in string s is equal to empty\n",
    "            result = \" \" + word + result\n",
    "            # Add empty value of index n in string s plus temporary string word to the final, reversed string result\n",
    "            word = \"\"   # Empty temporary string after adding values to result\n",
    "        else:\n",
    "            word += s[n]        # If index n in string s is not equal to empty, add to temporary string word\n",
    "            if n == slength:    # If while loop has reached final index in s and this index is not equal to empty\n",
    "                result = word + result      # Add temporary string word to final, reversed string result\n",
    "        n += 1      # n = n + 1, start next iteration on index n + 1\n",
    "    return result   # Function returns final string\n",
    "\n",
    "\n",
    "# s = input(\"Enter a sentence: \")    # Prompts user for a string\n",
    "s = \"Bergen          is  so beautiful       !  \"\n",
    "print(\"Initial sentence:\", s)\n",
    "print(\"Reversed sentence:\", reverse(s))  # Prints reversed string\n",
    "\n"
   ]
  },
  {
   "cell_type": "markdown",
   "metadata": {},
   "source": [
    "## Problem 2"
   ]
  },
  {
   "cell_type": "code",
   "execution_count": 7,
   "metadata": {},
   "outputs": [
    {
     "name": "stdout",
     "output_type": "stream",
     "text": [
      "Importance of each member v in network G:\nI[v1]= 0.92\nI[v2]= 0.92\nI[v3]= 1.25\nI[v4]= 0.83\nI[v5]= 1.25\nI[v6]= 0.92\nI[v7]= 0.92\n\nOverall importance of the network G is: 7.0\n"
     ]
    }
   ],
   "source": [
    "G = {               # Creating dictionary of links for each person v i network G\n",
    "    0 : [1,2],      # v1\n",
    "    1 : [0,2],      # v2\n",
    "    2 : [0,1,3],    # v3\n",
    "    3 : [2,4],      # v4\n",
    "    4 : [3,5,6],    # v5\n",
    "    5 : [4,6],      # v6\n",
    "    6 : [4,5]       # v7\n",
    "};\n",
    "\n",
    "I = []              # Creating an empty list I for importance values\n",
    "\n",
    "print('Importance of each member v in network G:')\n",
    "for v in range(len(G)):                                # Iterate for-loop for the range given by length of my dictionary G for each person v\n",
    "    I.insert(v,'')                                     # Insert an empty value in list I at index v\n",
    "    I[v] = float((1 / (1+len(G[v]))))                  # New importance value, I[v] (given by the pseudo-code), is 1 divided by (1+number of direct links)\n",
    "    for u in range(len(G)):                            # Iterate for-loop for the range given by length of my dictionary G for each neighbor u\n",
    "        if u in G[v]:                                  # Run the iteration of neighbor u only IF he is neighbor of person v\n",
    "            I[v] += float((1 / (1+len(G[u]))))         # Updated importance value, I[v] (given by the pseudo-code), is initial I[v] of person v + 1 divided by (1+number of direct links of neighbor u)\n",
    "    print('I[v'+str(v+1)+']=',round(I[v],2));          # Print importance value, I[v], for each person v rounded up to max 2 decimals\n",
    "\n",
    "print('\\nOverall importance of the network G is:',round(sum(I),2)) # Print overall importance value of network G, rounded up to max 2 decimals"
   ]
  },
  {
   "cell_type": "code",
   "execution_count": null,
   "metadata": {},
   "outputs": [],
   "source": []
  }
 ],
 "metadata": {
  "kernelspec": {
   "display_name": "Python 2",
   "language": "python",
   "name": "python2"
  },
  "language_info": {
   "codemirror_mode": {
    "name": "ipython",
    "version": 2
   },
   "file_extension": ".py",
   "mimetype": "text/x-python",
   "name": "python",
   "nbconvert_exporter": "python",
   "pygments_lexer": "ipython2",
   "version": "2.7.6"
  }
 },
 "nbformat": 4,
 "nbformat_minor": 0
}
