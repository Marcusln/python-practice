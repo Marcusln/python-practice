{
 "cells": [
  {
   "cell_type": "markdown",
   "metadata": {
    "collapsed": true
   },
   "source": [
    "# Mid-term 2018\n",
    "\n",
    "## Problem 1\n",
    "Create a list:<br />\n",
    "`new_list = [11, 2, 4, 5, 6, 7, 8, 9, 10]`\n",
    "\n",
    "Write a code that prints any number from new_list that satisfies two conditions:\n",
    "1. The number is odd;\n",
    "2. Its index in the list is odd.\n",
    "\n",
    "For example, the code should print 5 as it’s an odd number and its index is also odd. But it shouldn't print 11 (an odd number) as its index is 0."
   ]
  },
  {
   "cell_type": "code",
   "execution_count": 1,
   "metadata": {},
   "outputs": [
    {
     "name": "stdout",
     "output_type": "stream",
     "text": [
      "5\n7\n9\n"
     ]
    }
   ],
   "source": [
    "new_list = [11, 2, 4, 5, 6, 7, 8, 9, 10]  # create list\n",
    "\n",
    "for i in new_list:  # loop through items in the list\n",
    "    # if the remainder of i / 2 is not 0, ie. i is odd,\n",
    "    # and the index of i is odd, print i\n",
    "    if i % 2 != 0 and new_list.index(i) % 2 != 0:\n",
    "        print(i)\n"
   ]
  },
  {
   "cell_type": "markdown",
   "metadata": {},
   "source": [
    "## Problem 2\n",
    "\n",
    "In this problem, you should make a code that asks the user for his/her annual income and then prints the income tax and after-tax income. For simplicity, assume that everyone has the same tax rates as follows:\n",
    "```\n",
    "income ≤ 55,000: 0%\n",
    "income > 55,000 and income ≤ 90,000: 10%\n",
    "income > 90,000 and income ≤ 190,000: 20%\n",
    "income > 190,000 and income ≤ 390,000: 30%\n",
    "income > 390,000: 40%\n",
    "```\n",
    "NOTES:\n",
    "- Use `input()` to ask the user for his/her annual income\n",
    "- We assume a progressive tax system in which the tax rate increases as an individual’s income increases. Example output is as follows:\n",
    "\n",
    "```\n",
    "Enter your annual income in numbers: 190000\n",
    "Your tax is: 23500.0\n",
    "Your after-tax income is: 166500.0\n",
    "```\n",
    "\n",
    "Notater:\n",
    "\n",
    "Her kan man egentlig bare bruke denne: https://stackoverflow.com/questions/19120775/python-ancient-taxation/19121127#19121127\n",
    "Men vil ikke bare kopiere en løsning + plagiat. Så tenkte jeg vil lage en løsning som er så generell som mulig. Altså at den tar høyde for at skattesatsen kan endre seg, og tenkte dictionary er det mest logiske? Men den er ikke ordered, så når jeg har regnet skatten for inntekt = 190 000, så må jeg regne skatten for inntekten når satsen er 10% osv... Derfor har jeg gjort som jeg har gjort..."
   ]
  },
  {
   "cell_type": "code",
   "execution_count": 2,
   "metadata": {},
   "outputs": [
    {
     "name": "stdout",
     "output_type": "stream",
     "text": [
      "Your tax is: 23500.0\nYour after-tax income is: 166500.0\n"
     ]
    }
   ],
   "source": [
    "import math  # for math.inf\n",
    "\n",
    "# prompt user for income\n",
    "# income = float(input('Enter your annual income: '))\n",
    "income = 190000\n",
    "\n",
    "# create list of dictionaries where the key of dictionary is a tuple which\n",
    "# reflects the lower and upper bound of the tax rate. The value of the dictionary is the tax rate.\n",
    "# A list is used to make it ordered, so that we can loop through all previous entries in the dictionary\n",
    "tax_rates = [{(0, 55000): 0},\n",
    "             {(55000, 90000): 0.1},\n",
    "             {(90000, 190000): 0.2},\n",
    "             {(190000, 390000): 0.3},\n",
    "             {(390000, math.inf): 0.4}]\n",
    "\n",
    "for i in tax_rates:  # loop through list\n",
    "    for key, value in i.items():  # fetch key/value of dictionary\n",
    "        if key[0] < income <= key[1]:  # if income is between lower/upper bound\n",
    "            # the tax for income in this range is the income minus lower bound of tax rate level * tax rate\n",
    "            tax = (income - key[0]) * value\n",
    "            # loop through the previous list items\n",
    "            for j in tax_rates[slice(0, tax_rates.index(i))]:\n",
    "                for k, v in j.items():  # fetch key/value of dict\n",
    "                    tax += (k[1] - k[0]) * v  # add tax for each range\n",
    "\n",
    "print('Your tax is:', tax)\n",
    "print('Your after-tax income is:', income - tax)\n",
    "\n"
   ]
  },
  {
   "cell_type": "markdown",
   "metadata": {},
   "source": [
    "## Problem 3\n",
    "Create a function using for loop(s) and conditional statements that prints an X using #s. The function takes a natural number n (i.e. 1, 2, 3, 4, etc.) as the only parameter and the resulting X should be of size n*n."
   ]
  },
  {
   "cell_type": "markdown",
   "metadata": {},
   "source": [
    "### Rationale:\n",
    "<pre>\n",
    "1x1:\n",
    "# 0, 0, 1\n",
    "\n",
    "2x2:\n",
    "## 0, 0, 2\n",
    "## 0, 0, 2\n",
    "\n",
    "3x3:\n",
    "# # 0, 1, 3\n",
    " #  1, 0, 2\n",
    "# # 0, 1, 3\n",
    "\n",
    "7x7:\n",
    "#     # 0, 5, 7\n",
    " #   #  1, 3, 6\n",
    "  # #   2, 1, 5\n",
    "   #    3, 0, 4\n",
    "  # #   2, 1, 5\n",
    " #   #  1, 3, 6\n",
    "#     # 0, 5, 7\n",
    "\n",
    "8x8:\n",
    "#      # 0, 6, 8\n",
    " #    #  1, 4, 7\n",
    "  #  #   2, 2, 6\n",
    "   ##    3, 0, 5\n",
    "   ##    3, 0, 5\n",
    "  #  #   2, 2, 6\n",
    " #    #  1, 4, 7\n",
    "#      # 0, 6, 8\n",
    "\n",
    "9x9:\n",
    "#       # 0, 7, 9\n",
    " #     #  1, 5, 8\n",
    "  #   #   2, 3, 7\n",
    "   # #    3, 1, 6\n",
    "    #     4, 0, 5\n",
    "   # #    3, 1, 6\n",
    "  #   #   2, 3, 7\n",
    " #     #  1, 5, 8\n",
    "#       # 0, 7, 9\n",
    "</pre>"
   ]
  },
  {
   "cell_type": "code",
   "execution_count": 13,
   "metadata": {},
   "outputs": [],
   "source": [
    "from itertools import chain  # so we can use multiple ranges in same loop\n",
    "from math import ceil  # to round up numbers\n",
    "\n",
    "def drawx(n):\n",
    "    if n % 2 == 0:\n",
    "        for i in chain(range(int(n/2)), reversed(range(int(n/2)))):\n",
    "            print(' ' * i, '#', ' ' * (n - 2 - (2 * i)), '#', sep='')\n",
    "    else:\n",
    "        for i in chain(range(ceil(n/2)), reversed((range(int(n/2))))):\n",
    "            if i == int(n/2):\n",
    "                print(' ' * int(n/2), '#', sep='')\n",
    "            else:\n",
    "                print(' ' * i, '#', ' ' * (n - 2 - (2 * i)), '#', sep='')\n",
    "\n"
   ]
  },
  {
   "cell_type": "code",
   "execution_count": 12,
   "metadata": {},
   "outputs": [
    {
     "name": "stdout",
     "output_type": "stream",
     "text": [
      "n =  1\n#\n\n\nn =  2\n##\n##\n\n\nn =  3\n# #\n #\n# #\n\n\nn =  4\n#  #\n ##\n ##\n#  #\n\n\nn =  5\n#   #\n # #\n  #\n # #\n#   #\n\n\nn =  6\n#    #\n #  #\n  ##\n  ##\n #  #\n#    #\n\n\nn =  7\n#     #\n #   #\n  # #\n   #\n  # #\n #   #\n#     #\n\n\nn =  8\n#      #\n #    #\n  #  #\n   ##\n   ##\n  #  #\n #    #\n#      #\n\n\nn =  9\n#       #\n #     #\n  #   #\n   # #\n    #\n   # #\n  #   #\n #     #\n#       #\n\n\nn =  10\n#        #\n #      #\n  #    #\n   #  #\n    ##\n    ##\n   #  #\n  #    #\n #      #\n#        #\n\n\n"
     ]
    }
   ],
   "source": [
    "# test code\n",
    "for i in range(1, 11):\n",
    "    print('n = ', i)\n",
    "    drawx(i)\n",
    "    print('\\n')"
   ]
  },
  {
   "cell_type": "markdown",
   "metadata": {},
   "source": [
    "## Problem 4"
   ]
  },
  {
   "cell_type": "code",
   "execution_count": 3,
   "metadata": {},
   "outputs": [
    {
     "name": "stdout",
     "output_type": "stream",
     "text": [
      "Mean:  49.352 , standard deviation:  8.864246695218055\nObservation value  53.21 is within the control limits\nObservation value  50.73 is within the control limits\nObservation value  75.34 is within the control limits\nObservation value  45.18 is within the control limits\nObservation value  51.95 is within the control limits\nObservation value  47.47 is within the control limits\nObservation value  52.85 is within the control limits\nObservation value  49.93 is within the control limits\nObservation value  49.66 is within the control limits\nObservation value  46.09 is within the control limits\nObservation value  50.16 is within the control limits\nObservation value  47.21 is within the control limits\nObservation value  46.02 is within the control limits\nObservation value  47.87 is within the control limits\nObservation value  49.4 is within the control limits\nObservation value  51.47 is within the control limits\nObservation value  22.8 is within the control limits\nObservation value  46.8 is within the control limits\nObservation value  49.66 is within the control limits\nObservation value  53.24 is within the control limits\n"
     ]
    }
   ],
   "source": [
    "# funker ikke...\n",
    "\n",
    "from math import sqrt\n",
    "from statistics import stdev\n",
    "\n",
    "my_list = [53.21, 50.73, 75.34, 45.18, 51.95, 47.47, 52.85,\n",
    "        49.93, 49.66, 46.09, 50.16, 47.21, 46.02, 47.87,\n",
    "        49.40, 51.47, 22.80, 46.80, 49.66, 53.24]\n",
    "\n",
    "\n",
    "def calc_mean(list_numbers):\n",
    "    return sum(list_numbers) / len(list_numbers)\n",
    "\n",
    "\n",
    "def calc_sd(list_numbers):\n",
    "    temp = 0  # temp var\n",
    "    mean = calc_mean(list_numbers)\n",
    "    for number in list_numbers:\n",
    "        temp += (number - mean)**2\n",
    "        return sqrt(temp / len(list_numbers))\n",
    "\n",
    "\n",
    "def calc_sd(list_numbers):\n",
    "    return stdev(list_numbers)\n",
    "\n",
    "\n",
    "def check_norm(list_numbers, control_limit):\n",
    "        print('Mean: ', calc_mean(list_numbers), ', standard deviation: ', calc_sd(my_list))\n",
    "\n",
    "        lower_limit = calc_mean(list_numbers) - control_limit * calc_sd(list_numbers)\n",
    "        upper_limit = calc_mean(list_numbers) + control_limit * calc_sd(list_numbers)\n",
    "\n",
    "        for number in list_numbers:\n",
    "            if number <= lower_limit:\n",
    "                print('Observation value ', number, 'is below the lower control limit')\n",
    "            elif number >= upper_limit:\n",
    "                print('Observation value ', number, 'is above the upper control limit')\n",
    "            else:\n",
    "                print('Observation value ', number, 'is within the control limits')\n",
    "\n",
    "\n",
    "check_norm(my_list, 3)\n"
   ]
  },
  {
   "cell_type": "markdown",
   "metadata": {},
   "source": [
    "## Problem 5"
   ]
  },
  {
   "cell_type": "markdown",
   "metadata": {},
   "source": [
    "````python\n",
    "from random import randint\n",
    "\n",
    "\n",
    "def guess_int(upper_limit):\n",
    "    correct_answer = randint(1, upper_limit)\n",
    "    guess = None\n",
    "\n",
    "    while guess != correct_answer:\n",
    "        guess = int(input('Please enter a number between 1 and 10 to play the game, or enter 0 to quit:\\n'))\n",
    "        if guess == correct_answer:\n",
    "            print('Correct!')\n",
    "            break\n",
    "        elif guess == 0:\n",
    "            break\n",
    "        elif guess > correct_answer:\n",
    "            print('Your guess is too high. Please guess a higher number.')\n",
    "        else:\n",
    "            print('Your guess is too low. Please guess a higher number.')\n",
    "    print('Game ended.')\n",
    "\n",
    "\n",
    "guess_int(10)\n",
    "\n",
    "````python\n"
   ]
  },
  {
   "cell_type": "markdown",
   "metadata": {},
   "source": [
    "## Problem 7"
   ]
  },
  {
   "cell_type": "code",
   "execution_count": 6,
   "metadata": {},
   "outputs": [
    {
     "name": "stdout",
     "output_type": "stream",
     "text": [
      "190493 is the highest revenue over months\nThat was the revenue for the following months:  [3, 8]\nThat was the revenue for the following months:  3 and 8\n"
     ]
    }
   ],
   "source": [
    "def maxRevenues(list1, list2):\n",
    "    from itertools import zip_longest  # can add lists of different length\n",
    "\n",
    "    sumRevenue = [sum(n) for n in zip_longest(list1, list2, fillvalue=0)]\n",
    "    maxRevenue = max(sumRevenue)\n",
    "\n",
    "    maxRevenueIndices = [i + 1 for i, j in enumerate(sumRevenue) if j == maxRevenue]\n",
    "\n",
    "    print(maxRevenue, 'is the highest revenue over months')\n",
    "    print('That was the revenue for the following months: ', maxRevenueIndices)\n",
    "    print('That was the revenue for the following months: ', maxRevenueIndices[0], 'and', maxRevenueIndices[1])\n",
    "\n",
    "\n",
    "revenueProductA = [700, 10000, 200, 33333, 4000, 666, 777, 150203]  # from month 1 to 8\n",
    "revenueProductB = [3333, 38586, 190293, 38383, 70999, 13868, 113969, 40290]  # from month 1 to 8\n",
    "\n",
    "maxRevenues(revenueProductA, revenueProductB)"
   ]
  },
  {
   "cell_type": "code",
   "execution_count": null,
   "metadata": {},
   "outputs": [],
   "source": []
  }
 ],
 "metadata": {
  "kernelspec": {
   "display_name": "Python 2",
   "language": "python",
   "name": "python2"
  },
  "language_info": {
   "codemirror_mode": {
    "name": "ipython",
    "version": 2
   },
   "file_extension": ".py",
   "mimetype": "text/x-python",
   "name": "python",
   "nbconvert_exporter": "python",
   "pygments_lexer": "ipython2",
   "version": "2.7.6"
  }
 },
 "nbformat": 4,
 "nbformat_minor": 0
}
