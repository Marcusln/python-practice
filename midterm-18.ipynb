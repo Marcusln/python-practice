{
 "cells": [
  {
   "cell_type": "markdown",
   "metadata": {
    "collapsed": true
   },
   "source": [
    "# Mid-term 2018\n",
    "\n",
    "## Problem 1\n",
    "Create a list:<br />\n",
    "`new_list = [11, 2, 4, 5, 6, 7, 8, 9, 10]`\n",
    "\n",
    "Write a code that prints any number from new_list that satisfies two conditions:\n",
    "1. The number is odd;\n",
    "2. Its index in the list is odd.\n",
    "\n",
    "For example, the code should print 5 as it’s an odd number and its index is also odd. But it shouldn't print 11 (an odd number) as its index is 0."
   ]
  },
  {
   "cell_type": "code",
   "execution_count": 1,
   "metadata": {},
   "outputs": [
    {
     "name": "stdout",
     "output_type": "stream",
     "text": [
      "5\n7\n9\n"
     ]
    }
   ],
   "source": [
    "new_list = [11, 2, 4, 5, 6, 7, 8, 9, 10]  # create list\n",
    "\n",
    "for i in new_list:  # loop through items in the list\n",
    "    # if the remainder of i / 2 is not 0, ie. i is odd,\n",
    "    # and the index of i is odd, print i\n",
    "    if i % 2 != 0 and new_list.index(i) % 2 != 0:\n",
    "        print(i)\n"
   ]
  },
  {
   "cell_type": "markdown",
   "metadata": {},
   "source": [
    "## Problem 2\n",
    "\n",
    "In this problem, you should make a code that asks the user for his/her annual income and then prints the income tax and after-tax income. For simplicity, assume that everyone has the same tax rates as follows:\n",
    "```\n",
    "income ≤ 55,000: 0%\n",
    "income > 55,000 and income ≤ 90,000: 10%\n",
    "income > 90,000 and income ≤ 190,000: 20%\n",
    "income > 190,000 and income ≤ 390,000: 30%\n",
    "income > 390,000: 40%\n",
    "```\n",
    "NOTES:\n",
    "- Use `input()` to ask the user for his/her annual income\n",
    "- We assume a progressive tax system in which the tax rate increases as an individual’s income increases. Example output is as follows:\n",
    "\n",
    "```\n",
    "Enter your annual income in numbers: 190000\n",
    "Your tax is: 23500.0\n",
    "Your after-tax income is: 166500.0\n",
    "```\n",
    "\n",
    "Notater:\n",
    "\n",
    "Her kan man egentlig bare bruke denne: https://stackoverflow.com/questions/19120775/python-ancient-taxation/19121127#19121127\n",
    "Men vil ikke bare kopiere en løsning + plagiat. Så tenkte jeg vil lage en løsning som er så generell som mulig. Altså at den tar høyde for at skattesatsen kan endre seg, og tenkte dictionary er det mest logiske? Men den er ikke ordered, så når jeg har regnet skatten for inntekt = 190 000, så må jeg regne skatten for inntekten når satsen er 10% osv... Derfor har jeg gjort som jeg har gjort..."
   ]
  },
  {
   "cell_type": "code",
   "execution_count": 2,
   "metadata": {},
   "outputs": [
    {
     "name": "stdout",
     "output_type": "stream",
     "text": [
      "Your tax is: 23500.0\nYour after-tax income is: 166500.0\n"
     ]
    }
   ],
   "source": [
    "import math  # for math.inf\n",
    "\n",
    "# this tax calculator uses a progressive tax system where an income is taxed with different rates for each range\n",
    "\n",
    "# prompt user for income\n",
    "# income = float(input('Enter your annual income: '))\n",
    "income = 190000\n",
    "\n",
    "# create list of dictionaries where the key of dictionary is a tuple which\n",
    "# reflects the lower and upper bound of the tax rate. The value of the dictionary is the tax rate.\n",
    "# A list is used to make it ordered, so that we can loop through all previous entries in the dictionary\n",
    "tax_rates = [{(0, 55000): 0},\n",
    "             {(55000, 90000): 0.1},\n",
    "             {(90000, 190000): 0.2},\n",
    "             {(190000, 390000): 0.3},\n",
    "             {(390000, math.inf): 0.4}]\n",
    "\n",
    "for i in tax_rates:  # loop through list\n",
    "    for key, value in i.items():  # fetch key/value of dictionary\n",
    "        if key[0] < income <= key[1]:  # if income is between lower/upper bound\n",
    "            # the tax for income in this range is the income minus lower bound of tax rate level * tax rate\n",
    "            tax = (income - key[0]) * value\n",
    "            # loop through the previous list items\n",
    "            for j in tax_rates[slice(0, tax_rates.index(i))]:\n",
    "                for k, v in j.items():  # fetch key/value of dict\n",
    "                    tax += (k[1] - k[0]) * v  # add tax for each range, i.e.\n",
    "\n",
    "print('Your tax is:', tax)\n",
    "print('Your after-tax income is:', income - tax)\n",
    "\n"
   ]
  },
  {
   "cell_type": "markdown",
   "metadata": {},
   "source": [
    "## Problem 3\n",
    "Create a function using for loop(s) and conditional statements that prints an X using #s. The function takes a natural number n (i.e. 1, 2, 3, 4, etc.) as the only parameter and the resulting X should be of size n*n."
   ]
  },
  {
   "cell_type": "markdown",
   "metadata": {},
   "source": [
    "### Rationale:\n",
    "<pre>\n",
    "1x1:\n",
    "# 0, 0, 1\n",
    "\n",
    "2x2:\n",
    "## 0, 0, 2\n",
    "## 0, 0, 2\n",
    "\n",
    "3x3:\n",
    "# # 0, 1, 3\n",
    " #  1, 0, 2\n",
    "# # 0, 1, 3\n",
    "\n",
    "7x7:\n",
    "#     # 0, 5, 7\n",
    " #   #  1, 3, 6\n",
    "  # #   2, 1, 5\n",
    "   #    3, 0, 4\n",
    "  # #   2, 1, 5\n",
    " #   #  1, 3, 6\n",
    "#     # 0, 5, 7\n",
    "\n",
    "8x8:\n",
    "#      # 0, 6, 8\n",
    " #    #  1, 4, 7\n",
    "  #  #   2, 2, 6\n",
    "   ##    3, 0, 5\n",
    "   ##    3, 0, 5\n",
    "  #  #   2, 2, 6\n",
    " #    #  1, 4, 7\n",
    "#      # 0, 6, 8\n",
    "\n",
    "9x9:\n",
    "#       # 0, 7, 9\n",
    " #     #  1, 5, 8\n",
    "  #   #   2, 3, 7\n",
    "   # #    3, 1, 6\n",
    "    #     4, 0, 5\n",
    "   # #    3, 1, 6\n",
    "  #   #   2, 3, 7\n",
    " #     #  1, 5, 8\n",
    "#       # 0, 7, 9\n",
    "</pre>"
   ]
  },
  {
   "cell_type": "code",
   "execution_count": null,
   "metadata": {},
   "outputs": [
    {
     "name": "stdout",
     "output_type": "stream",
     "text": [
      "n =  1\n#\n\n\nn =  2\n##\n##\n\n\nn =  3\n# #\n #\n# #\n\n\nn =  4\n#  #\n ##\n ##\n#  #\n\n\nn =  5\n#   #\n # #\n  #\n # #\n#   #\n\n\nn =  6\n#    #\n #  #\n  ##\n  ##\n #  #\n#    #\n\n\nn =  7\n#     #\n #   #\n  # #\n   #\n  # #\n #   #\n#     #\n\n\nn =  8\n#      #\n #    #\n  #  #\n   ##\n   ##\n  #  #\n #    #\n#      #\n\n\nn =  9\n#       #\n #     #\n  #   #\n   # #\n    #\n   # #\n  #   #\n #     #\n#       #\n\n\n"
     ]
    }
   ],
   "source": [
    "from itertools import chain  # so we can use multiple ranges in same loop\n",
    "from math import ceil  # to round up numbers\n",
    "\n",
    "def drawx(n):\n",
    "    if n % 2 == 0:\n",
    "        for i in chain(range(int(n/2)), reversed(range(int(n/2)))):\n",
    "            print(' ' * i, '#', ' ' * (n - 2 - (2 * i)), '#', sep='')\n",
    "    else:\n",
    "        for i in chain(range(ceil(n/2)), reversed((range(int(n/2))))):\n",
    "            if i == int(n/2):\n",
    "                #print('i: ', i)\n",
    "                print(' ' * int(n/2), '#', sep='')\n",
    "            else:\n",
    "                print(' ' * i, '#', ' ' * (n - 2 - (2 * i)), '#', sep='')\n",
    "\n",
    "\n",
    "for i in range(1, 11):\n",
    "    print('n = ', i)\n",
    "    drawx(i)\n",
    "    print('\\n')"
   ]
  },
  {
   "cell_type": "code",
   "execution_count": null,
   "metadata": {},
   "outputs": [],
   "source": []
  }
 ],
 "metadata": {
  "kernelspec": {
   "display_name": "Python 2",
   "language": "python",
   "name": "python2"
  },
  "language_info": {
   "codemirror_mode": {
    "name": "ipython",
    "version": 2
   },
   "file_extension": ".py",
   "mimetype": "text/x-python",
   "name": "python",
   "nbconvert_exporter": "python",
   "pygments_lexer": "ipython2",
   "version": "2.7.6"
  }
 },
 "nbformat": 4,
 "nbformat_minor": 0
}
